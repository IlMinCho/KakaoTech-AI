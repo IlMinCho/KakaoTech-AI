{
  "nbformat": 4,
  "nbformat_minor": 0,
  "metadata": {
    "colab": {
      "provenance": []
    },
    "kernelspec": {
      "name": "python3",
      "display_name": "Python 3"
    },
    "language_info": {
      "name": "python"
    }
  },
  "cells": [
    {
      "cell_type": "code",
      "execution_count": null,
      "metadata": {
        "id": "LETLmd6huOmx"
      },
      "outputs": [],
      "source": [
        "import torch"
      ]
    },
    {
      "cell_type": "code",
      "source": [
        "x = torch.tensor([1, 2, 3])  # 1D 텐서 생성\n",
        "y = torch.ones(2, 3)         # 모든 값이 1인 2x3 텐서 생성\n",
        "z = torch.zeros(4, 5)        # 모든 값이 0인 4x5 텐서 생성\n",
        "\n",
        "print(\"X: \", x)\n",
        "print(\"Y: \", y)\n",
        "print(\"Z: \", z)"
      ],
      "metadata": {
        "id": "2isvzjhzuV-A"
      },
      "execution_count": null,
      "outputs": []
    },
    {
      "cell_type": "code",
      "source": [
        "# 텐서의 속성\n",
        "print(x.shape)  # 텐서의 형태\n",
        "print(y.size()) # 텐서의 크기\n",
        "print(z.dtype)  # 텐서의 데이터 타입"
      ],
      "metadata": {
        "id": "9ynRhHytuV7a"
      },
      "execution_count": null,
      "outputs": []
    },
    {
      "cell_type": "code",
      "source": [
        "# 기본연산\n",
        "a = torch.tensor([1, 2, 3])\n",
        "b = torch.tensor([4, 5, 6])\n",
        "c = a + b  # 텐서 덧셈\n",
        "d = a * b  # 텐서 곱셈\n",
        "\n",
        "print(\"덧셈 결과:\", c)\n",
        "print(\"곱셈 결과:\", d)"
      ],
      "metadata": {
        "id": "hfBGwy_7uVyS"
      },
      "execution_count": null,
      "outputs": []
    },
    {
      "cell_type": "code",
      "source": [
        "# 행렬연산\n",
        "A = torch.tensor([[1, 2], [3, 4]])\n",
        "B = torch.tensor([[5, 6], [7, 8]])\n",
        "C = torch.matmul(A, B)  # 행렬 곱셈\n",
        "\n",
        "print(\"행렬 곱셈 결과:\\n\", C)"
      ],
      "metadata": {
        "id": "vZ2f4lwZuVvv"
      },
      "execution_count": null,
      "outputs": []
    },
    {
      "cell_type": "code",
      "source": [
        "# 크기가 3x3인 랜덤 텐서 생성\n",
        "x = torch.rand(3, 3)\n",
        "y = torch.rand(3, 3)\n",
        "\n",
        "# 텐서의 합계\n",
        "z = torch.sum(x)\n",
        "print(\"합계:\\n\", z)\n",
        "\n",
        "# 텐서의 최대값과 인덱스\n",
        "z, idx = torch.max(x, dim=0)\n",
        "print(\"최대값:\\n\", z)\n",
        "print(\"최대값 인덱스:\\n\", idx)"
      ],
      "metadata": {
        "id": "YEvhSLtq2EHz"
      },
      "execution_count": null,
      "outputs": []
    },
    {
      "cell_type": "code",
      "source": [
        "# 연산의 브로드캐스킹\n",
        "x = torch.tensor([1, 2, 3])\n",
        "y = torch.tensor([[1], [2], [3]])\n",
        "z = x + y  # 브로드캐스팅을 통한 덧셈 연산\n",
        "\n",
        "print(\"덧셈 결과:\\n\", z)\n",
        "print(\"x의 형태:\", x.shape)\n",
        "print(\"y의 형태:\", y.shape)\n",
        "print(\"z의 형태:\", z.shape)"
      ],
      "metadata": {
        "id": "Sbh52CTFvwZn"
      },
      "execution_count": null,
      "outputs": []
    },
    {
      "cell_type": "code",
      "source": [
        "# 자동 미분 (Autograd),  autograd 모듈은 역전파를 통해 자동으로 기울기를 계산\n",
        "\n",
        "x = torch.tensor([1.0, 2.0, 3.0], requires_grad=True)\n",
        "y = x + 2\n",
        "z = y * y * 3\n",
        "out = z.mean()\n",
        "\n",
        "out.backward()  # 역전파 수행\n",
        "print(x.grad)   # x에 대한 기울기 출력"
      ],
      "metadata": {
        "id": "BO2j390wvwXR"
      },
      "execution_count": null,
      "outputs": []
    },
    {
      "cell_type": "code",
      "source": [
        "# requires_grad=True를 설정하여 텐서의 기울기를 계산하도록 지정\n",
        "x = torch.tensor(2.0, requires_grad=True)\n",
        "y = torch.tensor(3.0, requires_grad=True)\n",
        "\n",
        "# 함수 정의\n",
        "z = x * y + y**2\n",
        "\n",
        "# 역전파 수행\n",
        "z.backward()\n",
        "\n",
        "# 기울기 출력\n",
        "print(\"x에 대한 기울기:\", x.grad)\n",
        "print(\"y에 대한 기울기:\", y.grad)"
      ],
      "metadata": {
        "id": "dTohetHK2LXY"
      },
      "execution_count": null,
      "outputs": []
    },
    {
      "cell_type": "code",
      "source": [
        "# 신경망 모듈 (nn.Module),  nn.Module은 신경망의 기본 모듈\n",
        "import torch.nn as nn\n",
        "import torch.nn.functional as F\n",
        "\n",
        "class SimpleNN(nn.Module):\n",
        "    def __init__(self): # 신경망의 계층을 정의하는 부분\n",
        "        super(SimpleNN, self).__init__()\n",
        "        self.fc1 = nn.Linear(784, 128)\n",
        "        self.fc2 = nn.Linear(128, 10)\n",
        "\n",
        "    def forward(self, x): # 순전파를 정의하는 부분으로, 입력 데이터가 신경망을 통과하는 방식을 지정\n",
        "        x = F.relu(self.fc1(x))\n",
        "        x = self.fc2(x)\n",
        "        return x\n",
        "\n",
        "model = SimpleNN()\n",
        "print(model)"
      ],
      "metadata": {
        "id": "T3dl8soxvwUr"
      },
      "execution_count": null,
      "outputs": []
    },
    {
      "cell_type": "code",
      "source": [
        "class CNN(nn.Module):\n",
        "    def __init__(self):\n",
        "        super(CNN, self).__init__()\n",
        "\n",
        "        # 첫 번째 합성곱 층\n",
        "        self.conv1 = nn.Conv2d(in_channels=1, out_channels=32, kernel_size=3, stride=1, padding=1)\n",
        "        self.bn1 = nn.BatchNorm2d(32)  # 배치 정규화\n",
        "        self.pool = nn.MaxPool2d(kernel_size=2, stride=2, padding=0)  # 최대 풀링\n",
        "        self.dropout1 = nn.Dropout(p=0.25)  # 드롭아웃\n",
        "\n",
        "        # 두 번째 합성곱 층\n",
        "        self.conv2 = nn.Conv2d(in_channels=32, out_channels=64, kernel_size=3, stride=1, padding=1)\n",
        "        self.bn2 = nn.BatchNorm2d(64)  # 배치 정규화\n",
        "        self.dropout2 = nn.Dropout(p=0.25)  # 드롭아웃\n",
        "\n",
        "        # 완전 연결 층\n",
        "        self.fc1 = nn.Linear(64 * 7 * 7, 128)\n",
        "        self.bn3 = nn.BatchNorm1d(128)  # 배치 정규화\n",
        "        self.dropout3 = nn.Dropout(p=0.5)  # 드롭아웃\n",
        "        self.fc2 = nn.Linear(128, 10)\n",
        "\n",
        "    def forward(self, x):\n",
        "        x = self.pool(F.relu(self.bn1(self.conv1(x))))\n",
        "        x = self.dropout1(x)\n",
        "        x = self.pool(F.relu(self.bn2(self.conv2(x))))\n",
        "        x = self.dropout2(x)\n",
        "        x = x.view(-1, 64 * 7 * 7)  # 평탄화\n",
        "        x = F.relu(self.bn3(self.fc1(x)))\n",
        "        x = self.dropout3(x)\n",
        "        x = self.fc2(x)\n",
        "        return F.log_softmax(x, dim=1)\n",
        "\n",
        "# 모델 초기화\n",
        "model_cnn = CNN()\n",
        "print(model)"
      ],
      "metadata": {
        "id": "R8tFtCmL02Mg"
      },
      "execution_count": null,
      "outputs": []
    },
    {
      "cell_type": "code",
      "source": [
        "# 데이터 로딩 (Data Loading),  torch.utils.data.Dataset을 상속받아 사용자 정의 데이터셋 클래스 생성\n",
        "from torch.utils.data import Dataset, DataLoader\n",
        "\n",
        "class CustomDataset(Dataset):\n",
        "    def __init__(self, data, labels):\n",
        "        self.data = data\n",
        "        self.labels = labels\n",
        "\n",
        "    def __len__(self):\n",
        "        return len(self.data)\n",
        "\n",
        "    def __getitem__(self, idx):\n",
        "        return self.data[idx], self.labels[idx]\n",
        "\n",
        "dataset = CustomDataset(data, labels)\n",
        "dataloader = DataLoader(dataset, batch_size=32, shuffle=True)"
      ],
      "metadata": {
        "id": "i-u1_Ko5vwSY"
      },
      "execution_count": null,
      "outputs": []
    },
    {
      "cell_type": "code",
      "source": [
        "# 손실 함수 및 옵티마이저 설정\n",
        "criterion = nn.CrossEntropyLoss()\n",
        "optimizer = torch.optim.Adam(model.parameters(), lr=0.001)"
      ],
      "metadata": {
        "id": "6Bjmh_Xlwepx"
      },
      "execution_count": null,
      "outputs": []
    },
    {
      "cell_type": "code",
      "source": [
        "# 학습 루프\n",
        "for epoch in range(num_epochs):\n",
        "    for inputs, labels in dataloader:\n",
        "        optimizer.zero_grad()        # 기울기 초기화\n",
        "        outputs = model(inputs)      # 모델 예측\n",
        "        loss = criterion(outputs, labels)  # 손실 계산\n",
        "        loss.backward()              # 역전파 수행\n",
        "        optimizer.step()             # 가중치 업데이트"
      ],
      "metadata": {
        "id": "2dUAyiLGwenc"
      },
      "execution_count": null,
      "outputs": []
    },
    {
      "cell_type": "code",
      "source": [
        "# 평가 모드 전환\n",
        "model.eval()\n",
        "with torch.no_grad():\n",
        "    for inputs, labels in dataloader:\n",
        "        outputs = model(inputs)\n",
        "        # 평가 코드 작성"
      ],
      "metadata": {
        "id": "vWDBys7JwelG"
      },
      "execution_count": null,
      "outputs": []
    },
    {
      "cell_type": "code",
      "source": [
        "# GPU 사용 (Using GPU), 객체를 GPU로 이동\n",
        "device = torch.device('cuda' if torch.cuda.is_available() else 'cpu')\n",
        "model.to(device)\n",
        "inputs, labels = inputs.to(device), labels.to(device)"
      ],
      "metadata": {
        "id": "5I9Qt-tpwei0"
      },
      "execution_count": null,
      "outputs": []
    }
  ]
}