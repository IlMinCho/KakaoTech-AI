{
  "nbformat": 4,
  "nbformat_minor": 0,
  "metadata": {
    "colab": {
      "provenance": []
    },
    "kernelspec": {
      "name": "python3",
      "display_name": "Python 3"
    },
    "language_info": {
      "name": "python"
    }
  },
  "cells": [
    {
      "cell_type": "markdown",
      "source": [
        "# 파이썬 프로그래밍 II 종합 실습\n",
        "\n",
        "collections 모듈, comprehension, logging, 정규표현식, 멀티스레딩, 멀티프로세싱을 활용합니다.\n",
        "\n"
      ],
      "metadata": {
        "id": "o2A6nokuDOFH"
      }
    },
    {
      "cell_type": "markdown",
      "source": [
        "과제 1: Collections 모듈 활용\n",
        "\n",
        "EXAMPLE_SEQUENCE 값을 활용해보세요.\n",
        "\n",
        "1. Deque: Deque를 생성하고, 요소를 추가하고 제거하는 작업을 해보세요.\n",
        "\n",
        "2. Namedtuple: Namedtuple을 정의하고 인스턴스를 생성해보세요.\n",
        "\n",
        "3. Defaultdict: Defaultdict를 사용해보세요. 키가 없을 때 기본값을 설정하세요.\n",
        "\n",
        "4. Counter: Counter를 사용해 리스트에서 각 요소의 빈도를 세어보세요."
      ],
      "metadata": {
        "id": "wSeIu_4nDSsP"
      }
    },
    {
      "cell_type": "code",
      "execution_count": null,
      "metadata": {
        "id": "DOHabDfaDMyp"
      },
      "outputs": [],
      "source": [
        "EXAMPLE_SEQUENCE = ['dog', 'cat', 'mouse', 'parrot', 'frog']"
      ]
    },
    {
      "cell_type": "markdown",
      "source": [
        "과제 2: Comprehension 활용\n",
        "\n",
        "EXAMPLE_SEQUENCE 값을 활용해보세요.\n",
        "\n",
        "1. 리스트 컴프리헨션: 숫자 리스트의 제곱값을 구하세요.\n",
        "\n",
        "2. 딕셔너리 컴프리헨션: 키가 숫자이고 값이 그 숫자의 제곱인 딕셔너리를 생성하세요.\n",
        "\n",
        "3. 집합 컴프리헨션: 중복된 값을 제거한 제곱값 집합을 생성하세요."
      ],
      "metadata": {
        "id": "VUAClu_dD07F"
      }
    },
    {
      "cell_type": "code",
      "source": [
        "EXAMPLE_SEQUENCE = [1, 4, 12, 9, 22, 5, 1, 9]"
      ],
      "metadata": {
        "id": "UXRdE3o0EDwK"
      },
      "execution_count": null,
      "outputs": []
    },
    {
      "cell_type": "markdown",
      "source": [
        "과제 3: Logging 활용\n",
        "\n",
        "1. 기본 로깅 설정: 로깅을 설정하고 정보를 로깅하세요. 로그의 형태는 '시간 - 에러레벨 - 메시지' 입니다.\n",
        "\n",
        "2. 예외 로깅: 예외가 발생했을 때 에러를 로깅하세요."
      ],
      "metadata": {
        "id": "j-42IEV_Ec35"
      }
    },
    {
      "cell_type": "code",
      "source": [
        "import logging\n"
      ],
      "metadata": {
        "id": "Q7jfbpQTEz8N"
      },
      "execution_count": null,
      "outputs": []
    },
    {
      "cell_type": "markdown",
      "source": [
        "과제 4: 정규 표현식 사용\n",
        "\n",
        "1. 기본 패턴 매칭: 이메일 주소를 추출하세요.\n",
        "\n",
        "2. 기본 패턴 매칭: 비식별화를 진행하세요. ID를 앞 3글자 이외는 모두 '*'로 변경합니다.\n",
        "\n",
        "3. 고급 패턴 매칭: HTML 태그를 제거하세요."
      ],
      "metadata": {
        "id": "VGcHabOVE4mI"
      }
    },
    {
      "cell_type": "code",
      "source": [
        "email = \"MY name is Jhin, my email is kakaotech@goorm.io\"\n",
        "id_list = [\"jhin.lee\", \"lovelove123\", \"세종대왕만세!!\", \"twin에너지123\", \"PostModern\"]\n",
        "html = \"<p>Hello, <b>World!</b></p>"
      ],
      "metadata": {
        "id": "I-9AqxWWE59J"
      },
      "execution_count": null,
      "outputs": []
    },
    {
      "cell_type": "markdown",
      "source": [
        "과제 5: 멀티스레딩과 멀티프로세싱\n",
        "\n",
        "1. 스레딩: 한 개의 스레드를 생성하고 실행하는 함수를 작성해주세요.\n",
        "\n",
        "2. 멀티스레딩: 두 개의 스레드를 생성하고 실행하세요.\n",
        "\n",
        "3. 멀티프로세싱: 두 개의 프로세스를 생성하고 실행하세요."
      ],
      "metadata": {
        "id": "tOrX28FZFOYA"
      }
    },
    {
      "cell_type": "code",
      "source": [],
      "metadata": {
        "id": "6t3JDv6eFOEk"
      },
      "execution_count": null,
      "outputs": []
    }
  ]
}