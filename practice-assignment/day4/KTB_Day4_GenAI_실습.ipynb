{
  "cells": [
    {
      "cell_type": "markdown",
      "metadata": {
        "id": "o2A6nokuDOFH"
      },
      "source": [
        "# 파이썬 프로그래밍 II 종합 실습\n",
        "\n",
        "collections 모듈, comprehension, logging, 정규표현식, 멀티스레딩, 멀티프로세싱을 활용합니다.\n",
        "\n"
      ]
    },
    {
      "cell_type": "markdown",
      "metadata": {
        "id": "wSeIu_4nDSsP"
      },
      "source": [
        "과제 1: Collections 모듈 활용\n",
        "\n",
        "EXAMPLE_SEQUENCE 값을 활용해보세요.\n",
        "\n",
        "1. Deque: Deque를 생성하고, 요소를 추가하고 제거하는 작업을 해보세요.\n",
        "\n",
        "2. Namedtuple: Namedtuple을 정의하고 인스턴스를 생성해보세요.\n",
        "\n",
        "3. Defaultdict: Defaultdict를 사용해보세요. 키가 없을 때 기본값을 설정하세요.\n",
        "\n",
        "4. Counter: Counter를 사용해 리스트에서 각 요소의 빈도를 세어보세요."
      ]
    },
    {
      "cell_type": "code",
      "execution_count": 2,
      "metadata": {
        "id": "DOHabDfaDMyp"
      },
      "outputs": [
        {
          "name": "stdout",
          "output_type": "stream",
          "text": [
            "deque(['dog', 'cat', 'mouse', 'parrot', 'frog'])\n",
            "Animal(name='Buddy', species='Dog')\n",
            "Animal(name='Whiskers', species='Cat')\n",
            "Buddy\n",
            "Unknown\n",
            "Counter({'dog': 2, 'cat': 2, 'mouse': 1, 'parrot': 1, 'frog': 1})\n"
          ]
        }
      ],
      "source": [
        "from collections import deque\n",
        "\n",
        "# Deque 생성\n",
        "d = deque(['dog', 'cat', 'mouse', 'parrot', 'frog'])\n",
        "\n",
        "# 요소 추가\n",
        "d.append('hamster')\n",
        "d.appendleft('rabbit')\n",
        "\n",
        "# 요소 제거\n",
        "d.pop()\n",
        "d.popleft()\n",
        "\n",
        "print(d)\n",
        "\n",
        "###\n",
        "\n",
        "from collections import namedtuple\n",
        "\n",
        "# Namedtuple 정의\n",
        "Animal = namedtuple('Animal', 'name species')\n",
        "\n",
        "# 인스턴스 생성\n",
        "dog = Animal(name='Buddy', species='Dog')\n",
        "cat = Animal(name='Whiskers', species='Cat')\n",
        "\n",
        "print(dog)\n",
        "print(cat)\n",
        "\n",
        "###\n",
        "\n",
        "from collections import defaultdict\n",
        "\n",
        "# Defaultdict 생성\n",
        "dd = defaultdict(lambda: 'Unknown')\n",
        "\n",
        "# 값 설정\n",
        "dd['dog'] = 'Buddy'\n",
        "dd['cat'] = 'Whiskers'\n",
        "\n",
        "print(dd['dog'])\n",
        "print(dd['mouse'])  # 존재하지 않는 키\n",
        "\n",
        "###\n",
        "\n",
        "from collections import Counter\n",
        "\n",
        "# 리스트 요소 빈도 계산\n",
        "example_list = ['dog', 'cat', 'mouse', 'parrot', 'frog', 'dog', 'cat']\n",
        "counter = Counter(example_list)\n",
        "\n",
        "print(counter)"
      ]
    },
    {
      "cell_type": "markdown",
      "metadata": {
        "id": "VUAClu_dD07F"
      },
      "source": [
        "과제 2: Comprehension 활용\n",
        "\n",
        "EXAMPLE_SEQUENCE 값을 활용해보세요.\n",
        "\n",
        "1. 리스트 컴프리헨션: 숫자 리스트의 제곱값을 구하세요.\n",
        "\n",
        "2. 딕셔너리 컴프리헨션: 키가 숫자이고 값이 그 숫자의 제곱인 딕셔너리를 생성하세요.\n",
        "\n",
        "3. 집합 컴프리헨션: 중복된 값을 제거한 제곱값 집합을 생성하세요."
      ]
    },
    {
      "cell_type": "code",
      "execution_count": 3,
      "metadata": {
        "id": "UXRdE3o0EDwK"
      },
      "outputs": [
        {
          "name": "stdout",
          "output_type": "stream",
          "text": [
            "[1, 16, 144, 81, 484, 25, 1, 81]\n",
            "{1: 1, 4: 16, 12: 144, 9: 81, 22: 484, 5: 25}\n",
            "{1, 484, 16, 144, 81, 25}\n"
          ]
        }
      ],
      "source": [
        "#list\n",
        "numbers = [1, 4, 12, 9, 22, 5, 1, 9]\n",
        "squares = [x ** 2 for x in numbers]\n",
        "\n",
        "print(squares)\n",
        "\n",
        "#dict\n",
        "square_dict = {x: x ** 2 for x in numbers}\n",
        "\n",
        "print(square_dict)\n",
        "\n",
        "#set\n",
        "square_set = {x ** 2 for x in numbers}\n",
        "\n",
        "print(square_set)"
      ]
    },
    {
      "cell_type": "markdown",
      "metadata": {
        "id": "j-42IEV_Ec35"
      },
      "source": [
        "과제 3: Logging 활용\n",
        "\n",
        "1. 기본 로깅 설정: 로깅을 설정하고 정보를 로깅하세요. 로그의 형태는 '시간 - 에러레벨 - 메시지' 입니다.\n",
        "\n",
        "2. 예외 로깅: 예외가 발생했을 때 에러를 로깅하세요."
      ]
    },
    {
      "cell_type": "code",
      "execution_count": null,
      "metadata": {
        "id": "Q7jfbpQTEz8N"
      },
      "outputs": [],
      "source": [
        "import logging\n",
        "\n",
        "# 로깅 설정\n",
        "logging.basicConfig(format='%(asctime)s - %(levelname)s - %(message)s', level=logging.INFO)\n",
        "\n",
        "# 정보 로깅\n",
        "logging.info('This is an informational message.')\n",
        "\n",
        "try:\n",
        "    result = 10 / 0\n",
        "except ZeroDivisionError as e:\n",
        "    logging.error('An error occurred: %s', e)"
      ]
    },
    {
      "cell_type": "markdown",
      "metadata": {
        "id": "VGcHabOVE4mI"
      },
      "source": [
        "과제 4: 정규 표현식 사용\n",
        "\n",
        "1. 기본 패턴 매칭: 이메일 주소를 추출하세요.\n",
        "\n",
        "2. 기본 패턴 매칭: 비식별화를 진행하세요. ID를 앞 3글자 이외는 모두 '*'로 변경합니다.\n",
        "\n",
        "3. 고급 패턴 매칭: HTML 태그를 제거하세요."
      ]
    },
    {
      "cell_type": "code",
      "execution_count": 4,
      "metadata": {
        "id": "I-9AqxWWE59J"
      },
      "outputs": [
        {
          "name": "stdout",
          "output_type": "stream",
          "text": [
            "['kakaotech@goorm.io']\n",
            "['jhi*****', 'lov********', '세종대*****', 'twi*******', 'Pos*******']\n",
            "Hello, World!\n"
          ]
        }
      ],
      "source": [
        "import re\n",
        "\n",
        "#1\n",
        "email_text = \"MY name is Jhin, my email is kakaotech@goorm.io\"\n",
        "email_pattern = r'\\b[A-Za-z0-9._%+-]+@[A-Za-z0-9.-]+\\.[A-Z|a-z]{2,}\\b'\n",
        "\n",
        "emails = re.findall(email_pattern, email_text)\n",
        "print(emails)\n",
        "\n",
        "#2\n",
        "id_list = [\"jhin.lee\", \"lovelove123\", \"세종대왕만세!!\", \"twin에너지123\", \"PostModern\"]\n",
        "anonymized_ids = [re.sub(r'(?<=.{3}).', '*', id) for id in id_list]\n",
        "\n",
        "print(anonymized_ids)\n",
        "\n",
        "#3\n",
        "html = \"<p>Hello, <b>World!</b></p>\"\n",
        "clean_text = re.sub(r'<.*?>', '', html)\n",
        "\n",
        "print(clean_text)"
      ]
    },
    {
      "cell_type": "markdown",
      "metadata": {
        "id": "tOrX28FZFOYA"
      },
      "source": [
        "과제 5: 멀티스레딩과 멀티프로세싱\n",
        "\n",
        "1. 스레딩: 한 개의 스레드를 생성하고 실행하는 함수를 작성해주세요.\n",
        "\n",
        "2. 멀티스레딩: 두 개의 스레드를 생성하고 실행하세요.\n",
        "\n",
        "3. 멀티프로세싱: 두 개의 프로세스를 생성하고 실행하세요."
      ]
    },
    {
      "cell_type": "code",
      "execution_count": 16,
      "metadata": {
        "id": "6t3JDv6eFOEk"
      },
      "outputs": [
        {
          "name": "stdout",
          "output_type": "stream",
          "text": [
            "멀티스레딩 시작\n",
            "1\n",
            "2\n",
            "3\n",
            "4\n",
            "5\n",
            "1\n",
            "2\n",
            "3\n",
            "4\n",
            "5\n",
            "1\n",
            "2\n",
            "3\n",
            "4\n",
            "5\n",
            "멀티프로세싱 시작\n",
            "최종 공통A: 0\n"
          ]
        },
        {
          "name": "stderr",
          "output_type": "stream",
          "text": [
            "Traceback (most recent call last):\n",
            "  File \"<string>\", line 1, in <module>\n",
            "  File \"/Library/Frameworks/Python.framework/Versions/3.10/lib/python3.10/multiprocessing/spawn.py\", line 116, in spawn_main\n",
            "    exitcode = _main(fd, parent_sentinel)\n",
            "  File \"/Library/Frameworks/Python.framework/Versions/3.10/lib/python3.10/multiprocessing/spawn.py\", line 126, in _main\n",
            "    self = reduction.pickle.load(from_parent)\n",
            "AttributeError: Can't get attribute 'print_numbers_process' on <module '__main__' (built-in)>\n",
            "Traceback (most recent call last):\n",
            "  File \"<string>\", line 1, in <module>\n",
            "  File \"/Library/Frameworks/Python.framework/Versions/3.10/lib/python3.10/multiprocessing/spawn.py\", line 116, in spawn_main\n",
            "    exitcode = _main(fd, parent_sentinel)\n",
            "  File \"/Library/Frameworks/Python.framework/Versions/3.10/lib/python3.10/multiprocessing/spawn.py\", line 126, in _main\n",
            "    self = reduction.pickle.load(from_parent)\n",
            "AttributeError: Can't get attribute 'print_numbers_process' on <module '__main__' (built-in)>\n"
          ]
        }
      ],
      "source": [
        "import threading\n",
        "import multiprocessing\n",
        "import time\n",
        "\n",
        "def print_numbers():\n",
        "    for i in range(1, 6):\n",
        "        print(i)\n",
        "\n",
        "def print_numbers_process(shared_A):\n",
        "    for i in range(5):\n",
        "        with shared_A.get_lock():  # 락을 걸어 안전하게 값 변경\n",
        "            print(f\"i: {i}, 공통A: {shared_A.value}\")\n",
        "            shared_A.value += 1\n",
        "        time.sleep(1)\n",
        "\n",
        "def main():\n",
        "    # 멀티스레딩 예제\n",
        "    print(\"멀티스레딩 시작\")\n",
        "    \n",
        "    # 스레드 생성\n",
        "    thread = threading.Thread(target=print_numbers)\n",
        "    # 스레드 실행\n",
        "    thread.start()\n",
        "    thread.join()\n",
        "\n",
        "    # 두 개의 스레드 생성\n",
        "    thread1 = threading.Thread(target=print_numbers)\n",
        "    thread2 = threading.Thread(target=print_numbers)\n",
        "    \n",
        "    # 두 개의 스레드 실행\n",
        "    thread1.start()\n",
        "    thread2.start()\n",
        "    \n",
        "    thread1.join()\n",
        "    thread2.join()\n",
        "\n",
        "    print(\"멀티프로세싱 시작\")\n",
        "\n",
        "    # 공유 변수 생성\n",
        "    shared_A = multiprocessing.Value('i', 0)  # 'i'는 integer 타입\n",
        "\n",
        "    # 두 개의 프로세스 생성\n",
        "    process1 = multiprocessing.Process(target=print_numbers_process, args=(shared_A,))\n",
        "    process2 = multiprocessing.Process(target=print_numbers_process, args=(shared_A,))\n",
        "\n",
        "    # 프로세스 시작\n",
        "    process1.start()\n",
        "    process2.start()\n",
        "\n",
        "    # 프로세스 종료 대기\n",
        "    process1.join()\n",
        "    process2.join()\n",
        "\n",
        "    print(f\"최종 공통A: {shared_A.value}\")\n",
        "\n",
        "if __name__ == '__main__':\n",
        "    main()"
      ]
    }
  ],
  "metadata": {
    "colab": {
      "provenance": []
    },
    "kernelspec": {
      "display_name": "Python 3",
      "name": "python3"
    },
    "language_info": {
      "codemirror_mode": {
        "name": "ipython",
        "version": 3
      },
      "file_extension": ".py",
      "mimetype": "text/x-python",
      "name": "python",
      "nbconvert_exporter": "python",
      "pygments_lexer": "ipython3",
      "version": "3.10.8"
    }
  },
  "nbformat": 4,
  "nbformat_minor": 0
}
