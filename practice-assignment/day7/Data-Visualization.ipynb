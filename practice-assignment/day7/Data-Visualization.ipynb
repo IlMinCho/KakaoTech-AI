1. 고급 차트 유형에서 제시한 5개 시각화 방법 사용해보기
● 히트맵
● 트리맵
● 버블차트
● 레이더 차트
● 생키 다이어그램

2. 시각화한 차트를 인터렉티브하게 만들어보기

3. 지리 정보 데이터 시각화 해보기 
● geopandas
● folium

pip3 install pandas matplotlib seaborn plotly geopandas folium

