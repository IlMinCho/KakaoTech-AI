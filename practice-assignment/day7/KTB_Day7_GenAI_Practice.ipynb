{
  "nbformat": 4,
  "nbformat_minor": 0,
  "metadata": {
    "colab": {
      "provenance": []
    },
    "kernelspec": {
      "name": "python3",
      "display_name": "Python 3"
    },
    "language_info": {
      "name": "python"
    }
  },
  "cells": [
    {
      "cell_type": "markdown",
      "source": [
        "# 데이터 시각화 I 실습\n",
        "\n",
        "막대그래프, 선그래프, 히스토그램, 파이차트, 산점도, 박스플롯을 구현해봅니다.\n",
        "\n",
        "실습에 사용하는 데이터는 https://www.kaggle.com/datasets/nikhil7280/weather-type-classification 데이터입니다.\n",
        "\n",
        "본인이 원하는 다른 데이터가 있다면 다른 데이터를 사용하셔도 좋습니다.\n",
        "\n",
        "데이터에서 적절한 데이터를 선정하여 각 시각화 분석에 적용합니다.\n",
        "\n",
        "시각화를 진행할 때는 차트 뿐만 아니라 범례, 제목, 레이블, 색상, 크기 등 여러가지 요소들을 직접 개발하시면서\n",
        "\n",
        "데이터의 특성을 잘 이해해보시면 좋을 것 같습니다."
      ],
      "metadata": {
        "id": "buAxDCkkQTd1"
      }
    },
    {
      "cell_type": "code",
      "source": [
        "# 기본 라이브러리\n",
        "import matplotlib.pyplot as plt\n",
        "import pandas as pd\n",
        "import seaborn as sns\n",
        "import numpy as np"
      ],
      "metadata": {
        "id": "vEIM7zOnSHRS"
      },
      "execution_count": null,
      "outputs": []
    },
    {
      "cell_type": "code",
      "execution_count": null,
      "metadata": {
        "id": "b1cYOqOCQRSA"
      },
      "outputs": [],
      "source": [
        "# 1. 막대그래프"
      ]
    },
    {
      "cell_type": "code",
      "source": [
        "# 2. 선그래프"
      ],
      "metadata": {
        "id": "pK4pzvEaQ9Hf"
      },
      "execution_count": null,
      "outputs": []
    },
    {
      "cell_type": "code",
      "source": [
        "# 3. 히스토그램"
      ],
      "metadata": {
        "id": "T8YwTHlPRAQq"
      },
      "execution_count": null,
      "outputs": []
    },
    {
      "cell_type": "code",
      "source": [
        "# 4. 파이차트"
      ],
      "metadata": {
        "id": "nc4Mezo8RAom"
      },
      "execution_count": null,
      "outputs": []
    },
    {
      "cell_type": "code",
      "source": [
        "# 5. 산점도"
      ],
      "metadata": {
        "id": "DrymE1hLRAcn"
      },
      "execution_count": null,
      "outputs": []
    },
    {
      "cell_type": "code",
      "source": [
        "# 6. 박스플롯"
      ],
      "metadata": {
        "id": "e99Sh2JCRAFo"
      },
      "execution_count": null,
      "outputs": []
    },
    {
      "cell_type": "code",
      "source": [
        "# 7. 여러 시각화 차트 합쳐보기"
      ],
      "metadata": {
        "id": "7kHbTVvqvshK"
      },
      "execution_count": null,
      "outputs": []
    }
  ]
}