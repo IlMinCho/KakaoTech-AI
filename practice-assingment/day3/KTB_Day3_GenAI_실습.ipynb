{
  "cells": [
    {
      "cell_type": "markdown",
      "metadata": {
        "id": "zr5LnyrKxjNd"
      },
      "source": [
        "# 파이썬 프로그래밍 종합 실습\n",
        "기본 문법 복습, 자료형, 함수, 클래스와 객체지향 프로그래밍, 제너레이터와 이터레이터, 파일 입출력, 예외 처리를 종합적으로 활용합니다."
      ]
    },
    {
      "cell_type": "markdown",
      "metadata": {
        "id": "MwJQm7MJxvAk"
      },
      "source": [
        "1. 파이썬 기본 문법 복습 및 자료형\n",
        "\n",
        "문제:\n",
        "\n",
        "사용자로부터 이름, 나이, 이메일을 입력받아 딕셔너리에 저장하는 프로그램을 작성하세요.\n",
        "\n",
        "나이와 이메일의 형식을 검증하고, 잘못된 입력이 있으면 예외 처리를 하세요."
      ]
    },
    {
      "cell_type": "code",
      "execution_count": 1,
      "metadata": {
        "id": "yKTAculHxfMp"
      },
      "outputs": [
        {
          "name": "stdout",
          "output_type": "stream",
          "text": [
            "{'name': 'ilmin', 'age': 30, 'email': 'choim426@gmail.com'}\n"
          ]
        }
      ],
      "source": [
        "import re\n",
        "\n",
        "def validate_age(age):\n",
        "    if age.isdigit() and 0 < int(age) < 120:\n",
        "        return True\n",
        "    return False\n",
        "\n",
        "def validate_email(email):\n",
        "    email_regex = r'^[a-zA-Z0-9_.+-]+@[a-zA-Z0-9-]+\\.[a-zA-Z0-9-.]+$'\n",
        "    if re.match(email_regex, email):\n",
        "        return True\n",
        "    return False\n",
        "\n",
        "user_info = {}\n",
        "\n",
        "try:\n",
        "    name = input(\"Enter your name: \")\n",
        "    age = input(\"Enter your age: \")\n",
        "    if not validate_age(age):\n",
        "        raise ValueError(\"Invalid age\")\n",
        "    \n",
        "    email = input(\"Enter your email: \")\n",
        "    if not validate_email(email):\n",
        "        raise ValueError(\"Invalid email\")\n",
        "    \n",
        "    user_info['name'] = name\n",
        "    user_info['age'] = int(age)\n",
        "    user_info['email'] = email\n",
        "\n",
        "except ValueError as ve:\n",
        "    print(ve)\n",
        "\n",
        "print(user_info)"
      ]
    },
    {
      "cell_type": "markdown",
      "metadata": {
        "id": "in-rBALsyK33"
      },
      "source": [
        "2. 함수 및 클래스와 객체지향 프로그래밍\n",
        "\n",
        "문제:\n",
        "\n",
        "간단한 계산기 클래스를 작성하세요. 이 클래스는 덧셈, 뺄셈, 곱셈, 나눗셈 메서드를 포함합니다.\n",
        "\n",
        "사용자로부터 두 숫자와 연산자를 입력받아 계산 결과를 출력하는 프로그램을 작성하세요."
      ]
    },
    {
      "cell_type": "code",
      "execution_count": 2,
      "metadata": {
        "id": "v-Yn0ydQyQMO"
      },
      "outputs": [
        {
          "name": "stdout",
          "output_type": "stream",
          "text": [
            "The result is: 3.0\n"
          ]
        }
      ],
      "source": [
        "class Calculator:\n",
        "    def add(self, a, b):\n",
        "        return a + b\n",
        "    \n",
        "    def subtract(self, a, b):\n",
        "        return a - b\n",
        "    \n",
        "    def multiply(self, a, b):\n",
        "        return a * b\n",
        "    \n",
        "    def divide(self, a, b):\n",
        "        if b == 0:\n",
        "            raise ValueError(\"Cannot divide by zero\")\n",
        "        return a / b\n",
        "\n",
        "calc = Calculator()\n",
        "\n",
        "try:\n",
        "    num1 = float(input(\"Enter first number: \"))\n",
        "    num2 = float(input(\"Enter second number: \"))\n",
        "    operator = input(\"Enter operator (+, -, *, /): \")\n",
        "\n",
        "    if operator == '+':\n",
        "        result = calc.add(num1, num2)\n",
        "    elif operator == '-':\n",
        "        result = calc.subtract(num1, num2)\n",
        "    elif operator == '*':\n",
        "        result = calc.multiply(num1, num2)\n",
        "    elif operator == '/':\n",
        "        result = calc.divide(num1, num2)\n",
        "    else:\n",
        "        raise ValueError(\"Invalid operator\")\n",
        "\n",
        "    print(f\"The result is: {result}\")\n",
        "\n",
        "except ValueError as ve:\n",
        "    print(ve)"
      ]
    },
    {
      "cell_type": "markdown",
      "metadata": {
        "id": "OlDjuxSlyZOi"
      },
      "source": [
        "3. 제너레이터와 이터레이터\n",
        "\n",
        "문제:\n",
        "\n",
        "피보나치 수열을 생성하는 제너레이터 함수를 작성하세요.\n",
        "피보나치 수열의 첫 10개 값을 출력하세요."
      ]
    },
    {
      "cell_type": "code",
      "execution_count": 3,
      "metadata": {
        "id": "BkI1jD4GydEa"
      },
      "outputs": [
        {
          "name": "stdout",
          "output_type": "stream",
          "text": [
            "0\n",
            "1\n",
            "1\n",
            "2\n",
            "3\n",
            "5\n",
            "8\n",
            "13\n",
            "21\n",
            "34\n"
          ]
        }
      ],
      "source": [
        "def fibonacci(n):\n",
        "    a, b = 0, 1\n",
        "    for _ in range(n):\n",
        "        yield a\n",
        "        a, b = b, a + b\n",
        "\n",
        "fib = fibonacci(10)\n",
        "for num in fib:\n",
        "    print(num)"
      ]
    },
    {
      "cell_type": "markdown",
      "metadata": {
        "id": "O-_Q0pRUycx0"
      },
      "source": [
        "4. 파일 입출력\n",
        "\n",
        "문제:\n",
        "\n",
        "사용자로부터 입력받은 데이터를 파일에 저장하고, 파일 내용을 읽어 출력하는 프로그램을 작성하세요.\n",
        "\n",
        "데이터는 JSON 형식으로 저장하세요"
      ]
    },
    {
      "cell_type": "code",
      "execution_count": null,
      "metadata": {
        "id": "nyLTxXTHyqKE"
      },
      "outputs": [],
      "source": [
        "import json\n",
        "\n",
        "data = {}\n",
        "\n",
        "name = input(\"Enter your name: \")\n",
        "age = input(\"Enter your age: \")\n",
        "email = input(\"Enter your email: \")\n",
        "\n",
        "data['name'] = name\n",
        "data['age'] = age\n",
        "data['email'] = email\n",
        "\n",
        "# Writing to file\n",
        "with open('user_data.json', 'w') as file:\n",
        "    json.dump(data, file)\n",
        "\n",
        "# Reading from file\n",
        "with open('user_data.json', 'r') as file:\n",
        "    read_data = json.load(file)\n",
        "    print(read_data)"
      ]
    },
    {
      "cell_type": "markdown",
      "metadata": {
        "id": "snEMYElhy3Q3"
      },
      "source": [
        "5. Database 연동\n",
        "\n",
        "문제:\n",
        "\n",
        "SQLite 데이터베이스에 사용자 정보를 저장하고, 저장된 데이터를 조회하여 출력하는 프로그램을 작성하세요.\n",
        "\n",
        "테이블은 users로 하고, id, name, age, email 컬럼을 포함합니다."
      ]
    },
    {
      "cell_type": "code",
      "execution_count": null,
      "metadata": {
        "id": "d8BgUC0ky6_b"
      },
      "outputs": [],
      "source": [
        "import sqlite3\n",
        "\n",
        "# Connect to SQLite database\n",
        "connection = sqlite3.connect('user_info.db')\n",
        "cursor = connection.cursor()\n",
        "\n",
        "# Create table\n",
        "cursor.execute('''CREATE TABLE IF NOT EXISTS users\n",
        "                  (id INTEGER PRIMARY KEY,\n",
        "                   name TEXT,\n",
        "                   age INTEGER,\n",
        "                   email TEXT)''')\n",
        "\n",
        "# Insert user data\n",
        "name = input(\"Enter your name: \")\n",
        "age = int(input(\"Enter your age: \"))\n",
        "email = input(\"Enter your email: \")\n",
        "\n",
        "cursor.execute('''INSERT INTO users (name, age, email)\n",
        "                  VALUES (?, ?, ?)''', (name, age, email))\n",
        "\n",
        "# Commit the changes\n",
        "connection.commit()\n",
        "\n",
        "# Retrieve data\n",
        "cursor.execute('SELECT * FROM users')\n",
        "rows = cursor.fetchall()\n",
        "\n",
        "for row in rows:\n",
        "    print(row)\n",
        "\n",
        "# Close the connection\n",
        "connection.close()"
      ]
    },
    {
      "cell_type": "markdown",
      "metadata": {
        "id": "qFd9nMWdzMaw"
      },
      "source": [
        "6. 예외 처리\n",
        "\n",
        "문제:\n",
        "\n",
        "사용자로부터 숫자를 입력받아, 그 숫자를 10으로 나누는 프로그램을 작성하세요.\n",
        "\n",
        "0으로 나누는 경우와 숫자가 아닌 값을 입력받는 경우를 처리하세요."
      ]
    },
    {
      "cell_type": "code",
      "execution_count": null,
      "metadata": {
        "id": "B_0S33jOzPDJ"
      },
      "outputs": [],
      "source": [
        "try:\n",
        "    num = float(input(\"Enter a number: \"))\n",
        "    result = num / 10\n",
        "    print(f\"The result is: {result}\")\n",
        "\n",
        "except ZeroDivisionError:\n",
        "    print(\"Cannot divide by zero\")\n",
        "\n",
        "except ValueError:\n",
        "    print(\"Invalid input, please enter a numeric value\")"
      ]
    }
  ],
  "metadata": {
    "colab": {
      "provenance": []
    },
    "kernelspec": {
      "display_name": "Python 3",
      "name": "python3"
    },
    "language_info": {
      "codemirror_mode": {
        "name": "ipython",
        "version": 3
      },
      "file_extension": ".py",
      "mimetype": "text/x-python",
      "name": "python",
      "nbconvert_exporter": "python",
      "pygments_lexer": "ipython3",
      "version": "3.10.8"
    }
  },
  "nbformat": 4,
  "nbformat_minor": 0
}
